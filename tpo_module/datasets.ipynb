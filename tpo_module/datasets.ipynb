{
 "cells": [
  {
   "cell_type": "code",
   "execution_count": 2,
   "id": "f539c51d",
   "metadata": {},
   "outputs": [],
   "source": [
    "# import the necessary packages\n",
    "from sklearn.preprocessing import LabelBinarizer\n",
    "from sklearn.preprocessing import MinMaxScaler\n",
    "import pandas as pd\n",
    "import numpy as np\n",
    "import glob\n",
    "import cv2\n",
    "import os"
   ]
  },
  {
   "cell_type": "code",
   "execution_count": 2,
   "id": "edab5441",
   "metadata": {},
   "outputs": [],
   "source": [
    "def load_tree_attributes(inputPath):\n",
    "    # load the CSV file using Pandas\n",
    "    df = pd.read_csv(inputPath)\n",
    "    # return the data frame\n",
    "    return df"
   ]
  },
  {
   "cell_type": "code",
   "execution_count": 6,
   "id": "d9a59ba5",
   "metadata": {},
   "outputs": [],
   "source": [
    "def load_tree_images(df, inputPath):\n",
    "    # initialize our images array (i.e., the house images themselves)\n",
    "    images = []\n",
    "    # loop over the indexes of the houses\n",
    "    for i in df.ID.values:\n",
    "        # find the four images for the house and sort the file paths,\n",
    "        # ensuring the four are always in the *same order*\n",
    "        basePath = os.path.sep.join([inputPath, \"{}.tif\".format(i)])\n",
    "        treePaths = sorted(list(glob.glob(basePath)))\n",
    "        # loop over the input house paths\n",
    "        for treePath in treePaths:\n",
    "            # load the input image, resize it to be 224 224, and then\n",
    "            # update the list of input images\n",
    "            image = cv2.imread(treePath)\n",
    "            image = cv2.resize(image, (124,124))\n",
    "            images.append(image)\n",
    "    # return our set of images\n",
    "    return np.array(images)"
   ]
  },
  {
   "cell_type": "code",
   "execution_count": null,
   "id": "73bdb7be",
   "metadata": {},
   "outputs": [],
   "source": []
  }
 ],
 "metadata": {
  "environment": {
   "name": "tf2-gpu.2-5.m74",
   "type": "gcloud",
   "uri": "gcr.io/deeplearning-platform-release/tf2-gpu.2-5:m74"
  },
  "kernelspec": {
   "display_name": "Python 3",
   "language": "python",
   "name": "python3"
  },
  "language_info": {
   "codemirror_mode": {
    "name": "ipython",
    "version": 3
   },
   "file_extension": ".py",
   "mimetype": "text/x-python",
   "name": "python",
   "nbconvert_exporter": "python",
   "pygments_lexer": "ipython3",
   "version": "3.8.8"
  }
 },
 "nbformat": 4,
 "nbformat_minor": 5
}
